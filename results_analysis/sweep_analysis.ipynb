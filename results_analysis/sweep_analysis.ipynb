{
 "cells": [
  {
   "cell_type": "code",
   "execution_count": 3,
   "metadata": {},
   "outputs": [],
   "source": [
    "import wandb\n",
    "import pandas as pd\n",
    "import matplotlib.pyplot as plt"
   ]
  },
  {
   "cell_type": "code",
   "execution_count": 40,
   "metadata": {},
   "outputs": [],
   "source": [
    "def get_sweep_df(sweep_id, partition='test',metric=\"accuracy\",best='max'):\n",
    "    entity = \"r252_bel\"\n",
    "    project_name = \"setup_tests\"\n",
    "\n",
    "    # Fetch the sweep\n",
    "    api = wandb.Api()\n",
    "    sweep = api.sweep(f\"{entity}/{project_name}/{sweep_id}\")\n",
    "    # Initialize a list to store data\n",
    "    data = []\n",
    "\n",
    "    # Iterate over each run and fetch the required data\n",
    "    for run in sweep.runs:\n",
    "        config = run.config\n",
    "        summary_metrics = run.summary\n",
    "        # You might need to adjust the key names based on your actual data\n",
    "        try:\n",
    "            dct = {\n",
    "                # 'dataset': config['dataset'],  \n",
    "                'with_sam': config['with_sam'], \n",
    "                'base_optimizer': config['base_optimizer'], \n",
    "                # Add other hyperparameters here as needed\n",
    "                'batch_size': config['batch_size'],  \n",
    "                'num_hops': config['num_hops'],\n",
    "                'val/'+metric: summary_metrics['val/'+metric],  # Adjust based on your summary metrics\n",
    "                'test/'+metric: summary_metrics['test/'+metric],  # Adjust based on your summary metrics\n",
    "                # Include other config elements as necessary\n",
    "            }\n",
    "            if 'train/'+metric in summary_metrics.keys():\n",
    "                dct['train/'+metric]= summary_metrics['train/'+metric]  # Adjust based on your summary metrics\n",
    "            data.append(dct)\n",
    "        except:\n",
    "            print(f\"Run {run.id} failed\")\n",
    "\n",
    "    # Convert the list to a DataFrame\n",
    "    df = pd.DataFrame(data)\n",
    "    \n",
    "    df['train/'+metric] = None\n",
    "\n",
    "    # df = df[df['dataset'] != 'poly_binarised_decimalised_mod10_synth'] # excliude this dataset\n",
    "\n",
    "    # Group by dataset and other relevant hyperparameters (excluding seed), and calculate the mean of balanced_accuracy across seeds\n",
    "    grouped_df = df.groupby(['with_sam', \n",
    "                            'base_optimizer',  # Add other hyperparameters here, except 'seed'\n",
    "                            'batch_size',\n",
    "                            'num_hops'\n",
    "                            ]).agg({\n",
    "                                'train/'+metric: ['mean', 'std'],\n",
    "                                'val/'+metric: ['mean', 'std'],\n",
    "                                'test/'+metric: ['mean', 'std']\n",
    "                                }).reset_index()\n",
    "\n",
    "    # Now, find the entry with the maximum 'balanced_accuracy' for each 'dataset'\n",
    "    # result_df = grouped_df.loc[grouped_df.groupby(['base_optimizer','with_sam'])['test/accuracy'].idxmax()]\n",
    "\n",
    "    # First, flatten the column hierarchy to simplify accessing the mean and std columns\n",
    "    grouped_df.columns = ['_'.join(col).strip() for col in grouped_df.columns.values]\n",
    "\n",
    "\n",
    "    # Assuming you want to find the configuration with the highest mean test accuracy\n",
    "    # Now, find the entry with the maximum mean 'test/accuracy' for each combination of 'base_optimizer' and 'with_sam'\n",
    "    if best == 'max':\n",
    "        indices = grouped_df.groupby(['base_optimizer_', 'with_sam_'])['val/'+metric+'_mean'].idxmax()\n",
    "\n",
    "    else:\n",
    "        indices = grouped_df.groupby(['base_optimizer_', 'with_sam_'])['val/'+metric+'_mean'].idxmin()\n",
    "\n",
    "    result_df = grouped_df.loc[indices]\n",
    "\n",
    "    # Display the resulting DataFrame\n",
    "    print(result_df)\n",
    "    return result_df\n"
   ]
  },
  {
   "cell_type": "markdown",
   "metadata": {},
   "source": [
    "# Amazon-GCN-new-nl"
   ]
  },
  {
   "cell_type": "code",
   "execution_count": 41,
   "metadata": {},
   "outputs": [
    {
     "name": "stdout",
     "output_type": "stream",
     "text": [
      "Run 647tptcy failed\n",
      "Run 5l40nnr9 failed\n",
      "    with_sam_ base_optimizer_  batch_size_  num_hops_ train/accuracy_mean  \\\n",
      "2       False            adam          512          6                 NaN   \n",
      "26       True            adam          512          6                 NaN   \n",
      "12      False             sgd          512          2                 NaN   \n",
      "36       True             sgd          512          2                 NaN   \n",
      "\n",
      "    train/accuracy_std  val/accuracy_mean  val/accuracy_std  \\\n",
      "2                  NaN           0.465387          0.009193   \n",
      "26                 NaN           0.468699          0.001174   \n",
      "12                 NaN           0.379719          0.000000   \n",
      "36                 NaN           0.379719          0.000000   \n",
      "\n",
      "    test/accuracy_mean  test/accuracy_std  \n",
      "2             0.470946           0.001574  \n",
      "26            0.475552           0.001790  \n",
      "12            0.377238           0.000000  \n",
      "36            0.377238           0.000000  \n"
     ]
    }
   ],
   "source": [
    "sweep_id = \"anmjm6yi\"\n",
    "result_df = get_sweep_df(sweep_id)"
   ]
  },
  {
   "cell_type": "code",
   "execution_count": null,
   "metadata": {},
   "outputs": [],
   "source": []
  },
  {
   "cell_type": "code",
   "execution_count": 30,
   "metadata": {},
   "outputs": [
    {
     "name": "stdout",
     "output_type": "stream",
     "text": [
      "    with_sam_ base_optimizer_  batch_size_  num_hops_  train/loss_mean  \\\n",
      "9       False            adam         4096          2         1.201114   \n",
      "33       True            adam         4096          2         1.245885   \n",
      "12      False             sgd          512          2         1.491604   \n",
      "36       True             sgd          512          2         1.493490   \n",
      "\n",
      "    train/loss_std  \n",
      "9         0.006753  \n",
      "33        0.002858  \n",
      "12        0.000846  \n",
      "36        0.000781  \n"
     ]
    }
   ],
   "source": [
    "result_df = get_sweep_df(\"anmjm6yi\", metric='train/loss')"
   ]
  },
  {
   "cell_type": "code",
   "execution_count": 15,
   "metadata": {},
   "outputs": [
    {
     "name": "stdout",
     "output_type": "stream",
     "text": [
      "\\begin{tabular}{rlrrrr}\n",
      "\\toprule\n",
      "with_sam_ & base_optimizer_ & batch_size_ & num_hops_ & test/accuracy_mean & test/accuracy_std \\\\\n",
      "\\midrule\n",
      "False & adam & 512 & 6 & 0.470946 & 0.001574 \\\\\n",
      "True & adam & 512 & 6 & 0.475552 & 0.001790 \\\\\n",
      "False & sgd & 512 & 2 & 0.377238 & 0.000000 \\\\\n",
      "True & sgd & 512 & 2 & 0.377238 & 0.000000 \\\\\n",
      "\\bottomrule\n",
      "\\end{tabular}\n",
      "\n"
     ]
    }
   ],
   "source": [
    "print(result_df.to_latex(index=False))"
   ]
  },
  {
   "cell_type": "markdown",
   "metadata": {},
   "source": [
    "# neighbour_loader_node_class_Cora-GCN"
   ]
  },
  {
   "cell_type": "code",
   "execution_count": 18,
   "metadata": {},
   "outputs": [
    {
     "name": "stdout",
     "output_type": "stream",
     "text": [
      "    with_sam_ base_optimizer_  batch_size_  num_hops_  test/accuracy_mean  \\\n",
      "8       False            adam          128          6            0.810743   \n",
      "26       True            adam          128          6            0.806611   \n",
      "14      False             sgd           32          6            0.825367   \n",
      "32       True             sgd           32          6            0.822028   \n",
      "\n",
      "    test/accuracy_std  \n",
      "8            0.002520  \n",
      "26           0.004110  \n",
      "14           0.004731  \n",
      "32           0.005260  \n"
     ]
    }
   ],
   "source": [
    "result_df = get_sweep_df('vkcjqut3')"
   ]
  },
  {
   "cell_type": "code",
   "execution_count": 31,
   "metadata": {},
   "outputs": [
    {
     "name": "stdout",
     "output_type": "stream",
     "text": [
      "    with_sam_ base_optimizer_  batch_size_  num_hops_  train/loss_mean  \\\n",
      "0       False            adam            8          2         0.004434   \n",
      "18       True            adam            8          2         0.013569   \n",
      "17      False             sgd          128          6         1.699061   \n",
      "35       True             sgd          128          6         1.717816   \n",
      "\n",
      "    train/loss_std  \n",
      "0         0.003891  \n",
      "18        0.003682  \n",
      "17        0.034533  \n",
      "35        0.029100  \n"
     ]
    }
   ],
   "source": [
    "result_df = get_sweep_df(\"vkcjqut3\", metric='train/loss')"
   ]
  },
  {
   "cell_type": "code",
   "execution_count": 32,
   "metadata": {},
   "outputs": [
    {
     "name": "stdout",
     "output_type": "stream",
     "text": [
      "    with_sam_ base_optimizer_  batch_size_  num_hops_  test/loss_mean  \\\n",
      "2       False            adam            8          6       14.781947   \n",
      "19       True            adam            8          4       22.042636   \n",
      "17      False             sgd          128          6        1.690725   \n",
      "35       True             sgd          128          6        1.708623   \n",
      "\n",
      "    test/loss_std  \n",
      "2        1.072301  \n",
      "19       2.333827  \n",
      "17       0.035280  \n",
      "35       0.029744  \n"
     ]
    }
   ],
   "source": [
    "result_df = get_sweep_df(\"vkcjqut3\", metric='test/loss')\n"
   ]
  },
  {
   "cell_type": "code",
   "execution_count": 19,
   "metadata": {},
   "outputs": [
    {
     "name": "stdout",
     "output_type": "stream",
     "text": [
      "\\begin{tabular}{rlrrrr}\n",
      "\\toprule\n",
      "with_sam_ & base_optimizer_ & batch_size_ & num_hops_ & test/accuracy_mean & test/accuracy_std \\\\\n",
      "\\midrule\n",
      "False & adam & 128 & 6 & 0.810743 & 0.002520 \\\\\n",
      "True & adam & 128 & 6 & 0.806611 & 0.004110 \\\\\n",
      "False & sgd & 32 & 6 & 0.825367 & 0.004731 \\\\\n",
      "True & sgd & 32 & 6 & 0.822028 & 0.005260 \\\\\n",
      "\\bottomrule\n",
      "\\end{tabular}\n",
      "\n"
     ]
    }
   ],
   "source": [
    "print(result_df.to_latex(index=False))"
   ]
  },
  {
   "cell_type": "markdown",
   "metadata": {},
   "source": [
    "# neighbour_loader_node_class_CiteSeer-GCN"
   ]
  },
  {
   "cell_type": "code",
   "execution_count": 20,
   "metadata": {},
   "outputs": [
    {
     "name": "stdout",
     "output_type": "stream",
     "text": [
      "    with_sam_ base_optimizer_  batch_size_  num_hops_  test/accuracy_mean  \\\n",
      "8       False            adam          128          6            0.703363   \n",
      "26       True            adam          128          6            0.702261   \n",
      "14      False             sgd           32          6            0.784583   \n",
      "32       True             sgd           32          6            0.783879   \n",
      "\n",
      "    test/accuracy_std  \n",
      "8            0.004817  \n",
      "26           0.011175  \n",
      "14           0.002564  \n",
      "32           0.003285  \n"
     ]
    }
   ],
   "source": [
    "result_df = get_sweep_df('48oqoszw')"
   ]
  },
  {
   "cell_type": "markdown",
   "metadata": {},
   "source": [
    "# Roman-GCN-NeighbourLoader"
   ]
  },
  {
   "cell_type": "markdown",
   "metadata": {},
   "source": [
    "result_df = get_sweep_df('rq1n4pdr')\n"
   ]
  },
  {
   "cell_type": "code",
   "execution_count": null,
   "metadata": {},
   "outputs": [],
   "source": []
  }
 ],
 "metadata": {
  "kernelspec": {
   "display_name": "fwal",
   "language": "python",
   "name": "python3"
  },
  "language_info": {
   "codemirror_mode": {
    "name": "ipython",
    "version": 3
   },
   "file_extension": ".py",
   "mimetype": "text/x-python",
   "name": "python",
   "nbconvert_exporter": "python",
   "pygments_lexer": "ipython3",
   "version": "3.11.8"
  }
 },
 "nbformat": 4,
 "nbformat_minor": 2
}
